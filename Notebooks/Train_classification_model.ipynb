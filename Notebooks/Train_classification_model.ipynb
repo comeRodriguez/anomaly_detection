{
 "cells": [
  {
   "cell_type": "code",
   "execution_count": 18,
   "id": "892d6e38",
   "metadata": {
    "ExecuteTime": {
     "end_time": "2022-07-01T13:07:16.656278Z",
     "start_time": "2022-07-01T13:07:16.651613Z"
    }
   },
   "outputs": [],
   "source": [
    "import pickle\n",
    "import matplotlib.pyplot as plt\n",
    "import pandas as pd\n",
    "import plotly.express as px\n",
    "import seaborn as sns\n",
    "\n",
    "from sklearn.ensemble import RandomForestClassifier\n",
    "from sklearn.neighbors import KNeighborsClassifier\n",
    "from sklearn.tree import DecisionTreeClassifier\n",
    "from sklearn.linear_model import LogisticRegression\n",
    "from sklearn.metrics import accuracy_score, classification_report, confusion_matrix, ConfusionMatrixDisplay\n",
    "from sklearn.model_selection import train_test_split, cross_val_score"
   ]
  },
  {
   "cell_type": "markdown",
   "id": "3d0255e0",
   "metadata": {},
   "source": [
    "# Load datasets"
   ]
  },
  {
   "cell_type": "code",
   "execution_count": 2,
   "id": "09c51b18",
   "metadata": {
    "ExecuteTime": {
     "end_time": "2022-07-01T13:04:07.098589Z",
     "start_time": "2022-07-01T13:04:07.034544Z"
    }
   },
   "outputs": [],
   "source": [
    "pressures_df = pd.read_csv(\"../data/final_data/pressures_node21.csv\").set_index(\"Timestamp\")\n",
    "flows_df = pd.read_csv(\"../data/final_data/flows_link21.csv\").set_index(\"Timestamp\")"
   ]
  },
  {
   "cell_type": "markdown",
   "id": "6dea33a3",
   "metadata": {},
   "source": [
    "# Split data into train and validation set"
   ]
  },
  {
   "cell_type": "markdown",
   "id": "4199c285",
   "metadata": {},
   "source": [
    "## Pressures"
   ]
  },
  {
   "cell_type": "code",
   "execution_count": 3,
   "id": "43f57d03",
   "metadata": {
    "ExecuteTime": {
     "end_time": "2022-07-01T13:04:07.113707Z",
     "start_time": "2022-07-01T13:04:07.100818Z"
    }
   },
   "outputs": [],
   "source": [
    "X_train_p, X_test_p, y_train_p, y_test_p = train_test_split(\n",
    "    pressures_df.drop([\"label\", \"node_21_forecast\"], axis=1),\n",
    "    pressures_df[\"label\"],\n",
    "    train_size=0.8,\n",
    "    random_state=29\n",
    ")"
   ]
  },
  {
   "cell_type": "markdown",
   "id": "ffb1319f",
   "metadata": {},
   "source": [
    "## Flows"
   ]
  },
  {
   "cell_type": "code",
   "execution_count": 4,
   "id": "e009868e",
   "metadata": {
    "ExecuteTime": {
     "end_time": "2022-07-01T13:04:07.127736Z",
     "start_time": "2022-07-01T13:04:07.116998Z"
    }
   },
   "outputs": [],
   "source": [
    "X_train_f, X_test_f, y_train_f, y_test_f = train_test_split(\n",
    "    flows_df.drop([\"label\", \"link_21_forecast\"], axis=1),\n",
    "    flows_df[\"label\"],\n",
    "    train_size=0.8,\n",
    "    random_state=29\n",
    ")"
   ]
  },
  {
   "cell_type": "markdown",
   "id": "cbacc4d6",
   "metadata": {},
   "source": [
    "# Cross validation to select most accurate model"
   ]
  },
  {
   "cell_type": "markdown",
   "id": "7ae4f5fa",
   "metadata": {},
   "source": [
    "## Pressures"
   ]
  },
  {
   "cell_type": "code",
   "execution_count": 5,
   "id": "2b04e2ed",
   "metadata": {
    "ExecuteTime": {
     "end_time": "2022-07-01T13:04:18.950678Z",
     "start_time": "2022-07-01T13:04:07.132028Z"
    }
   },
   "outputs": [],
   "source": [
    "cross_knn_p = cross_val_score(KNeighborsClassifier(), X_train_p, y_train_p, scoring=\"accuracy\", cv=10)\n",
    "cross_logistic_p = cross_val_score(LogisticRegression(max_iter=200), X_train_p, y_train_p, scoring=\"accuracy\", cv=10)\n",
    "cross_dtree_p = cross_val_score(DecisionTreeClassifier(), X_train_p, y_train_p, scoring=\"accuracy\", cv=10)\n",
    "cross_randomf_p = cross_val_score(RandomForestClassifier(), X_train_p, y_train_p, scoring=\"accuracy\", cv=10)"
   ]
  },
  {
   "cell_type": "code",
   "execution_count": 6,
   "id": "28dd100e",
   "metadata": {
    "ExecuteTime": {
     "end_time": "2022-07-01T13:04:18.961248Z",
     "start_time": "2022-07-01T13:04:18.955641Z"
    }
   },
   "outputs": [],
   "source": [
    "cross_df_p = pd.DataFrame([\n",
    "    cross_knn_p,\n",
    "    cross_logistic_p,\n",
    "    cross_dtree_p,\n",
    "    cross_randomf_p,\n",
    "]).T\n",
    "cross_df_p.columns = [\"KNN\", \"Logistic Regression\", \"Decision Tree\", \"Random Forest\"]"
   ]
  },
  {
   "cell_type": "code",
   "execution_count": 7,
   "id": "c581baf9",
   "metadata": {
    "ExecuteTime": {
     "end_time": "2022-07-01T13:04:19.287115Z",
     "start_time": "2022-07-01T13:04:18.964653Z"
    }
   },
   "outputs": [
    {
     "data": {
      "image/png": "[encoded data removed]",
      "text/plain": [
       "<Figure size 864x504 with 1 Axes>"
      ]
     },
     "metadata": {
      "needs_background": "light"
     },
     "output_type": "display_data"
    }
   ],
   "source": [
    "plt.figure(figsize=(12, 7))\n",
    "sns.boxplot(data=cross_df_p\n",
    "            .melt(), x=\"variable\", y=\"value\", showmeans=True, meanprops={\"marker\":\"o\",\n",
    "                       \"markerfacecolor\":\"white\", \n",
    "                       \"markeredgecolor\":\"black\",\n",
    "                      \"markersize\":\"10\"})\n",
    "plt.xlabel(\"Classification Model\")\n",
    "plt.ylabel(\"Accuracy Score\")\n",
    "plt.show()"
   ]
  },
  {
   "cell_type": "markdown",
   "id": "47e8594e",
   "metadata": {},
   "source": [
    "## Flows"
   ]
  },
  {
   "cell_type": "code",
   "execution_count": 8,
   "id": "1d327a1d",
   "metadata": {
    "ExecuteTime": {
     "end_time": "2022-07-01T13:04:28.486536Z",
     "start_time": "2022-07-01T13:04:19.288840Z"
    }
   },
   "outputs": [],
   "source": [
    "cross_knn_f = cross_val_score(KNeighborsClassifier(), X_train_f, y_train_f, scoring=\"accuracy\", cv=10)\n",
    "cross_logistic_f = cross_val_score(LogisticRegression(max_iter=200), X_train_f, y_train_f, scoring=\"accuracy\", cv=10)\n",
    "cross_dtree_f = cross_val_score(DecisionTreeClassifier(), X_train_f, y_train_f, scoring=\"accuracy\", cv=10)\n",
    "cross_randomf_f = cross_val_score(RandomForestClassifier(), X_train_f, y_train_f, scoring=\"accuracy\", cv=10)"
   ]
  },
  {
   "cell_type": "code",
   "execution_count": 9,
   "id": "db127b4c",
   "metadata": {
    "ExecuteTime": {
     "end_time": "2022-07-01T13:04:28.501808Z",
     "start_time": "2022-07-01T13:04:28.491428Z"
    }
   },
   "outputs": [],
   "source": [
    "cross_df_f = pd.DataFrame([\n",
    "    cross_knn_f,\n",
    "    cross_logistic_f,\n",
    "    cross_dtree_f,\n",
    "    cross_randomf_f,\n",
    "]).T\n",
    "cross_df_f.columns = [\"KNN\", \"Logistic Regression\", \"Decision Tree\", \"Random Forest\"]"
   ]
  },
  {
   "cell_type": "code",
   "execution_count": 10,
   "id": "4964af0f",
   "metadata": {
    "ExecuteTime": {
     "end_time": "2022-07-01T13:04:28.811045Z",
     "start_time": "2022-07-01T13:04:28.504717Z"
    }
   },
   "outputs": [
    {
     "data": {
      "image/png": "[encoded data removed]",
      "text/plain": [
       "<Figure size 864x504 with 1 Axes>"
      ]
     },
     "metadata": {
      "needs_background": "light"
     },
     "output_type": "display_data"
    }
   ],
   "source": [
    "plt.figure(figsize=(12, 7))\n",
    "sns.boxplot(data=cross_df_f\n",
    "            .melt(), x=\"variable\", y=\"value\", showmeans=True, meanprops={\"marker\":\"o\",\n",
    "                       \"markerfacecolor\":\"white\", \n",
    "                       \"markeredgecolor\":\"black\",\n",
    "                      \"markersize\":\"10\"})\n",
    "plt.xlabel(\"Classification Model\")\n",
    "plt.ylabel(\"Accuracy Score\")\n",
    "plt.show()"
   ]
  },
  {
   "cell_type": "markdown",
   "id": "c4fd4458",
   "metadata": {},
   "source": [
    "In both cases, Random forest seems to be the most accurate model, if we consider mean accuracy_score"
   ]
  },
  {
   "cell_type": "markdown",
   "id": "7c8046c5",
   "metadata": {},
   "source": [
    "# Analyzing confusion matrix"
   ]
  },
  {
   "cell_type": "markdown",
   "id": "b664b9c5",
   "metadata": {},
   "source": [
    "## Pressures"
   ]
  },
  {
   "cell_type": "code",
   "execution_count": 11,
   "id": "6b46ec67",
   "metadata": {
    "ExecuteTime": {
     "end_time": "2022-07-01T13:04:30.030983Z",
     "start_time": "2022-07-01T13:04:28.812903Z"
    }
   },
   "outputs": [
    {
     "name": "stdout",
     "output_type": "stream",
     "text": [
      "              precision    recall  f1-score   support\n",
      "\n",
      "         0.0       0.97      1.00      0.98      1547\n",
      "         1.0       0.97      0.73      0.84       205\n",
      "\n",
      "    accuracy                           0.97      1752\n",
      "   macro avg       0.97      0.86      0.91      1752\n",
      "weighted avg       0.97      0.97      0.96      1752\n",
      "\n"
     ]
    },
    {
     "data": {
      "text/plain": [
       "<sklearn.metrics._plot.confusion_matrix.ConfusionMatrixDisplay at 0x121cc24c0>"
      ]
     },
     "execution_count": 11,
     "metadata": {},
     "output_type": "execute_result"
    },
    {
     "data": {
      "image/png": "[encoded data removed]",
      "text/plain": [
       "<Figure size 432x288 with 2 Axes>"
      ]
     },
     "metadata": {
      "needs_background": "light"
     },
     "output_type": "display_data"
    }
   ],
   "source": [
    "rf_p = RandomForestClassifier()\n",
    "rf_p.fit(X_train_p, y_train_p)\n",
    "predictions = rf_p.predict(X_test_p)\n",
    "print(classification_report(y_pred=predictions, y_true=y_test_p))\n",
    "cm = confusion_matrix(y_true=y_test_p, y_pred=predictions, labels=rf_p.classes_)\n",
    "disp = ConfusionMatrixDisplay(cm, display_labels=rf_p.classes_)\n",
    "disp.plot()"
   ]
  },
  {
   "cell_type": "markdown",
   "id": "fb05209d",
   "metadata": {},
   "source": [
    "We have a precision of 96% on detecting anomalies (label 1) and a recall of 74% : 74% of all the anomalies presents in the validation set are deteceted"
   ]
  },
  {
   "cell_type": "markdown",
   "id": "591e4a01",
   "metadata": {},
   "source": [
    "## Flows"
   ]
  },
  {
   "cell_type": "code",
   "execution_count": 12,
   "id": "d0724dfa",
   "metadata": {
    "ExecuteTime": {
     "end_time": "2022-07-01T13:04:31.150966Z",
     "start_time": "2022-07-01T13:04:30.033272Z"
    }
   },
   "outputs": [
    {
     "name": "stdout",
     "output_type": "stream",
     "text": [
      "              precision    recall  f1-score   support\n",
      "\n",
      "         0.0       0.96      1.00      0.98      1547\n",
      "         1.0       1.00      0.71      0.83       205\n",
      "\n",
      "    accuracy                           0.97      1752\n",
      "   macro avg       0.98      0.85      0.90      1752\n",
      "weighted avg       0.97      0.97      0.96      1752\n",
      "\n"
     ]
    },
    {
     "data": {
      "text/plain": [
       "<sklearn.metrics._plot.confusion_matrix.ConfusionMatrixDisplay at 0x121ee1160>"
      ]
     },
     "execution_count": 12,
     "metadata": {},
     "output_type": "execute_result"
    },
    {
     "data": {
      "image/png": "[encoded data removed]",
      "text/plain": [
       "<Figure size 432x288 with 2 Axes>"
      ]
     },
     "metadata": {
      "needs_background": "light"
     },
     "output_type": "display_data"
    }
   ],
   "source": [
    "rf_f = RandomForestClassifier()\n",
    "rf_f.fit(X_train_f, y_train_f)\n",
    "predictions = rf_f.predict(X_test_f)\n",
    "print(classification_report(y_pred=predictions, y_true=y_test_f))\n",
    "cm = confusion_matrix(y_true=y_test_f, y_pred=predictions, labels=rf_f.classes_)\n",
    "disp = ConfusionMatrixDisplay(cm, display_labels=rf_f.classes_)\n",
    "disp.plot()"
   ]
  },
  {
   "cell_type": "markdown",
   "id": "c50a910c",
   "metadata": {},
   "source": [
    "Considering flows, we are more precise (100% precision on detecting anomalies) but we detecte less anomalies (71% against 74% on pressures)"
   ]
  },
  {
   "cell_type": "markdown",
   "id": "5e56009b",
   "metadata": {},
   "source": [
    "# Importance of SARIMA model to create \"difference\" feature"
   ]
  },
  {
   "cell_type": "markdown",
   "id": "7f80b730",
   "metadata": {},
   "source": [
    "## Pressures"
   ]
  },
  {
   "cell_type": "code",
   "execution_count": 13,
   "id": "08ab1c2d",
   "metadata": {
    "ExecuteTime": {
     "end_time": "2022-07-01T13:04:31.367830Z",
     "start_time": "2022-07-01T13:04:31.154505Z"
    }
   },
   "outputs": [
    {
     "name": "stdout",
     "output_type": "stream",
     "text": [
      "Index(['node_21_mean', 'node_21_std', 'node_21_median', 'node_21_min',\n",
      "       'node_21_max', 'difference'],\n",
      "      dtype='object')\n"
     ]
    },
    {
     "data": {
      "image/png": "[encoded data removed]",
      "text/plain": [
       "<Figure size 432x288 with 1 Axes>"
      ]
     },
     "metadata": {
      "needs_background": "light"
     },
     "output_type": "display_data"
    }
   ],
   "source": [
    "importances = rf_p.feature_importances_\n",
    "feature_names = pressures_df.drop([\"label\", \"node_21_forecast\"], axis=1).columns\n",
    "print(feature_names)\n",
    "forest_importances = pd.Series(importances, index=feature_names)\n",
    "\n",
    "fig, ax = plt.subplots()\n",
    "forest_importances.plot.bar(ax=ax)\n",
    "ax.set_title(\"Feature importances using MDI\")\n",
    "ax.set_ylabel(\"Mean decrease in impurity\")\n",
    "fig.tight_layout()"
   ]
  },
  {
   "cell_type": "markdown",
   "id": "fa89fcbb",
   "metadata": {},
   "source": [
    "## Flows"
   ]
  },
  {
   "cell_type": "code",
   "execution_count": 14,
   "id": "159f35b2",
   "metadata": {
    "ExecuteTime": {
     "end_time": "2022-07-01T13:04:31.558469Z",
     "start_time": "2022-07-01T13:04:31.370497Z"
    }
   },
   "outputs": [
    {
     "name": "stdout",
     "output_type": "stream",
     "text": [
      "Index(['link_21_mean', 'link_21_std', 'link_21_median', 'link_21_min',\n",
      "       'link_21_max', 'difference'],\n",
      "      dtype='object')\n"
     ]
    },
    {
     "data": {
      "image/png": "[encoded data removed]",
      "text/plain": [
       "<Figure size 432x288 with 1 Axes>"
      ]
     },
     "metadata": {
      "needs_background": "light"
     },
     "output_type": "display_data"
    }
   ],
   "source": [
    "importances = rf_f.feature_importances_\n",
    "feature_names = flows_df.drop([\"label\", \"link_21_forecast\"], axis=1).columns\n",
    "print(feature_names)\n",
    "forest_importances = pd.Series(importances, index=feature_names)\n",
    "\n",
    "fig, ax = plt.subplots()\n",
    "forest_importances.plot.bar(ax=ax)\n",
    "ax.set_title(\"Feature importances using MDI\")\n",
    "ax.set_ylabel(\"Mean decrease in impurity\")\n",
    "fig.tight_layout()"
   ]
  },
  {
   "cell_type": "markdown",
   "id": "7d167c35",
   "metadata": {},
   "source": [
    "In both cases, the feature *difference* seems to be important on decreasing impurity criterion and then on detceting anomaly"
   ]
  },
  {
   "cell_type": "markdown",
   "id": "a78b3895",
   "metadata": {},
   "source": [
    "## Trained model performance without \"difference\""
   ]
  },
  {
   "cell_type": "markdown",
   "id": "93044bc8",
   "metadata": {},
   "source": [
    "### Pressures"
   ]
  },
  {
   "cell_type": "code",
   "execution_count": 15,
   "id": "cabbeadd",
   "metadata": {
    "ExecuteTime": {
     "end_time": "2022-07-01T13:04:33.054212Z",
     "start_time": "2022-07-01T13:04:31.563038Z"
    }
   },
   "outputs": [
    {
     "name": "stdout",
     "output_type": "stream",
     "text": [
      "              precision    recall  f1-score   support\n",
      "\n",
      "         0.0       0.96      1.00      0.98      1547\n",
      "         1.0       1.00      0.68      0.81       205\n",
      "\n",
      "    accuracy                           0.96      1752\n",
      "   macro avg       0.98      0.84      0.90      1752\n",
      "weighted avg       0.96      0.96      0.96      1752\n",
      "\n"
     ]
    },
    {
     "data": {
      "text/plain": [
       "<sklearn.metrics._plot.confusion_matrix.ConfusionMatrixDisplay at 0x1220678e0>"
      ]
     },
     "execution_count": 15,
     "metadata": {},
     "output_type": "execute_result"
    },
    {
     "data": {
      "image/png": "[encoded data removed]",
      "text/plain": [
       "<Figure size 432x288 with 2 Axes>"
      ]
     },
     "metadata": {
      "needs_background": "light"
     },
     "output_type": "display_data"
    }
   ],
   "source": [
    "rf_p2 = RandomForestClassifier()\n",
    "rf_p2.fit(X_train_p.drop(\"difference\", axis=1), y_train_p)\n",
    "predictions = rf_p2.predict(X_test_p.drop(\"difference\", axis=1))\n",
    "print(classification_report(y_pred=predictions, y_true=y_test_p))\n",
    "cm = confusion_matrix(y_true=y_test_p, y_pred=predictions, labels=rf_p2.classes_)\n",
    "disp = ConfusionMatrixDisplay(cm, display_labels=rf_p2.classes_)\n",
    "disp.plot()"
   ]
  },
  {
   "cell_type": "markdown",
   "id": "26cd8bb1",
   "metadata": {},
   "source": [
    "### Flows"
   ]
  },
  {
   "cell_type": "code",
   "execution_count": 16,
   "id": "a2a5bb80",
   "metadata": {
    "ExecuteTime": {
     "end_time": "2022-07-01T13:04:34.114166Z",
     "start_time": "2022-07-01T13:04:33.057155Z"
    }
   },
   "outputs": [
    {
     "name": "stdout",
     "output_type": "stream",
     "text": [
      "              precision    recall  f1-score   support\n",
      "\n",
      "         0.0       0.96      1.00      0.98      1547\n",
      "         1.0       0.99      0.71      0.82       205\n",
      "\n",
      "    accuracy                           0.96      1752\n",
      "   macro avg       0.97      0.85      0.90      1752\n",
      "weighted avg       0.97      0.96      0.96      1752\n",
      "\n"
     ]
    },
    {
     "data": {
      "text/plain": [
       "<sklearn.metrics._plot.confusion_matrix.ConfusionMatrixDisplay at 0x122199880>"
      ]
     },
     "execution_count": 16,
     "metadata": {},
     "output_type": "execute_result"
    },
    {
     "data": {
      "image/png": "[encoded data removed]",
      "text/plain": [
       "<Figure size 432x288 with 2 Axes>"
      ]
     },
     "metadata": {
      "needs_background": "light"
     },
     "output_type": "display_data"
    }
   ],
   "source": [
    "rf_f2 = RandomForestClassifier()\n",
    "rf_f2.fit(X_train_f.drop(\"difference\", axis=1), y_train_f)\n",
    "predictions = rf_f2.predict(X_test_f.drop(\"difference\", axis=1))\n",
    "print(classification_report(y_pred=predictions, y_true=y_test_f))\n",
    "cm = confusion_matrix(y_true=y_test_f, y_pred=predictions, labels=rf_f2.classes_)\n",
    "disp = ConfusionMatrixDisplay(cm, display_labels=rf_f2.classes_)\n",
    "disp.plot()"
   ]
  },
  {
   "cell_type": "markdown",
   "id": "ff6158b2",
   "metadata": {},
   "source": [
    "Using the *difference* feature lets us to imrove the recall metric on pressures validation set (68% to 73%) but we lose a little of precision (100% to 97%). On the flows validation set, using the *difference* feature improves the precision of the model (99% to 100%)"
   ]
  },
  {
   "cell_type": "markdown",
   "id": "4d44913d",
   "metadata": {},
   "source": [
    "# Saving models"
   ]
  },
  {
   "cell_type": "code",
   "execution_count": 19,
   "id": "d6471baf",
   "metadata": {
    "ExecuteTime": {
     "end_time": "2022-07-01T13:09:03.200236Z",
     "start_time": "2022-07-01T13:09:03.026255Z"
    }
   },
   "outputs": [],
   "source": [
    "pickle.dump(rf_p, open(\"../data/models/random_forest_pressures.pickle\", \"wb\"))\n",
    "pickle.dump(rf_f, open(\"../data/models/random_forest_flows.pickle\", \"wb\"))"
   ]
  },
  {
   "cell_type": "code",
   "execution_count": null,
   "id": "2b69c642",
   "metadata": {},
   "outputs": [],
   "source": []
  }
 ],
 "metadata": {
  "hide_input": false,
  "kernelspec": {
   "display_name": "Python 3 (ipykernel)",
   "language": "python",
   "name": "python3"
  },
  "language_info": {
   "codemirror_mode": {
    "name": "ipython",
    "version": 3
   },
   "file_extension": ".py",
   "mimetype": "text/x-python",
   "name": "python",
   "nbconvert_exporter": "python",
   "pygments_lexer": "ipython3",
   "version": "3.9.8"
  },
  "latex_envs": {
   "LaTeX_envs_menu_present": true,
   "autoclose": false,
   "autocomplete": true,
   "bibliofile": "biblio.bib",
   "cite_by": "apalike",
   "current_citInitial": 1,
   "eqLabelWithNumbers": true,
   "eqNumInitial": 1,
   "hotkeys": {
    "equation": "Ctrl-E",
    "itemize": "Ctrl-I"
   },
   "labels_anchors": false,
   "latex_user_defs": false,
   "report_style_numbering": false,
   "user_envs_cfg": false
  },
  "toc": {
   "base_numbering": 1,
   "nav_menu": {},
   "number_sections": true,
   "sideBar": true,
   "skip_h1_title": false,
   "title_cell": "Table of Contents",
   "title_sidebar": "Contents",
   "toc_cell": false,
   "toc_position": {},
   "toc_section_display": true,
   "toc_window_display": false
  },
  "varInspector": {
   "cols": {
    "lenName": 16,
    "lenType": 16,
    "lenVar": 40
   },
   "kernels_config": {
    "python": {
     "delete_cmd_postfix": "",
     "delete_cmd_prefix": "del ",
     "library": "var_list.py",
     "varRefreshCmd": "print(var_dic_list())"
    },
    "r": {
     "delete_cmd_postfix": ") ",
     "delete_cmd_prefix": "rm(",
     "library": "var_list.r",
     "varRefreshCmd": "cat(var_dic_list()) "
    }
   },
   "types_to_exclude": [
    "module",
    "function",
    "builtin_function_or_method",
    "instance",
    "_Feature"
   ],
   "window_display": false
  }
 },
 "nbformat": 4,
 "nbformat_minor": 5
}
