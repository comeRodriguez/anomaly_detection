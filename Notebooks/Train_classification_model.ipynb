{
 "cells": [
  {
   "cell_type": "code",
   "execution_count": 1,
   "id": "892d6e38",
   "metadata": {
    "ExecuteTime": {
     "end_time": "2022-07-01T13:07:16.656278Z",
     "start_time": "2022-07-01T13:07:16.651613Z"
    }
   },
   "outputs": [],
   "source": [
    "import pickle\n",
    "import matplotlib.pyplot as plt\n",
    "import pandas as pd\n",
    "import plotly.express as px\n",
    "import seaborn as sns\n",
    "\n",
    "from sklearn.ensemble import RandomForestClassifier\n",
    "from sklearn.neighbors import KNeighborsClassifier\n",
    "from sklearn.tree import DecisionTreeClassifier\n",
    "from sklearn.linear_model import LogisticRegression\n",
    "from sklearn.metrics import accuracy_score, classification_report, confusion_matrix, ConfusionMatrixDisplay\n",
    "from sklearn.model_selection import train_test_split, cross_val_score"
   ]
  },
  {
   "cell_type": "markdown",
   "id": "3d0255e0",
   "metadata": {},
   "source": [
    "# Load datasets"
   ]
  },
  {
   "cell_type": "code",
   "execution_count": 2,
   "id": "09c51b18",
   "metadata": {
    "ExecuteTime": {
     "end_time": "2022-07-01T13:04:07.098589Z",
     "start_time": "2022-07-01T13:04:07.034544Z"
    }
   },
   "outputs": [],
   "source": [
    "pressures_df = pd.read_csv(\"../data/final_data/pressures_node21.csv\").set_index(\"Timestamp\")\n",
    "flows_df = pd.read_csv(\"../data/final_data/flows_link21.csv\").set_index(\"Timestamp\")"
   ]
  },
  {
   "cell_type": "markdown",
   "id": "6dea33a3",
   "metadata": {},
   "source": [
    "# Split data into train and validation set"
   ]
  },
  {
   "cell_type": "markdown",
   "id": "4199c285",
   "metadata": {},
   "source": [
    "## Pressures"
   ]
  },
  {
   "cell_type": "code",
   "execution_count": 3,
   "id": "43f57d03",
   "metadata": {
    "ExecuteTime": {
     "end_time": "2022-07-01T13:04:07.113707Z",
     "start_time": "2022-07-01T13:04:07.100818Z"
    }
   },
   "outputs": [],
   "source": [
    "X_train_p, X_test_p, y_train_p, y_test_p = train_test_split(\n",
    "    pressures_df.drop([\"label\", \"node_21_forecast\"], axis=1),\n",
    "    pressures_df[\"label\"],\n",
    "    train_size=0.8,\n",
    "    random_state=29\n",
    ")"
   ]
  },
  {
   "cell_type": "markdown",
   "id": "ffb1319f",
   "metadata": {},
   "source": [
    "## Flows"
   ]
  },
  {
   "cell_type": "code",
   "execution_count": 4,
   "id": "e009868e",
   "metadata": {
    "ExecuteTime": {
     "end_time": "2022-07-01T13:04:07.127736Z",
     "start_time": "2022-07-01T13:04:07.116998Z"
    }
   },
   "outputs": [],
   "source": [
    "X_train_f, X_test_f, y_train_f, y_test_f = train_test_split(\n",
    "    flows_df.drop([\"label\", \"link_21_forecast\"], axis=1),\n",
    "    flows_df[\"label\"],\n",
    "    train_size=0.8,\n",
    "    random_state=29\n",
    ")"
   ]
  },
  {
   "cell_type": "markdown",
   "id": "cbacc4d6",
   "metadata": {},
   "source": [
    "# Cross validation to select most accurate model"
   ]
  },
  {
   "cell_type": "markdown",
   "id": "7ae4f5fa",
   "metadata": {},
   "source": [
    "## Pressures"
   ]
  },
  {
   "cell_type": "code",
   "execution_count": 5,
   "id": "2b04e2ed",
   "metadata": {
    "ExecuteTime": {
     "end_time": "2022-07-01T13:04:18.950678Z",
     "start_time": "2022-07-01T13:04:07.132028Z"
    }
   },
   "outputs": [],
   "source": [
    "cross_knn_p = cross_val_score(KNeighborsClassifier(), X_train_p, y_train_p, scoring=\"accuracy\", cv=10)\n",
    "cross_logistic_p = cross_val_score(LogisticRegression(max_iter=200), X_train_p, y_train_p, scoring=\"accuracy\", cv=10)\n",
    "cross_dtree_p = cross_val_score(DecisionTreeClassifier(), X_train_p, y_train_p, scoring=\"accuracy\", cv=10)\n",
    "cross_randomf_p = cross_val_score(RandomForestClassifier(), X_train_p, y_train_p, scoring=\"accuracy\", cv=10)"
   ]
  },
  {
   "cell_type": "code",
   "execution_count": 6,
   "id": "28dd100e",
   "metadata": {
    "ExecuteTime": {
     "end_time": "2022-07-01T13:04:18.961248Z",
     "start_time": "2022-07-01T13:04:18.955641Z"
    }
   },
   "outputs": [],
   "source": [
    "cross_df_p = pd.DataFrame([\n",
    "    cross_knn_p,\n",
    "    cross_logistic_p,\n",
    "    cross_dtree_p,\n",
    "    cross_randomf_p,\n",
    "]).T\n",
    "cross_df_p.columns = [\"KNN\", \"Logistic Regression\", \"Decision Tree\", \"Random Forest\"]"
   ]
  },
  {
   "cell_type": "code",
   "execution_count": 7,
   "id": "c581baf9",
   "metadata": {
    "ExecuteTime": {
     "end_time": "2022-07-01T13:04:19.287115Z",
     "start_time": "2022-07-01T13:04:18.964653Z"
    }
   },
   "outputs": [
    {
     "data": {
      "image/png": "[encoded data removed]",
      "text/plain": [
       "<Figure size 864x504 with 1 Axes>"
      ]
     },
     "metadata": {
      "needs_background": "light"
     },
     "output_type": "display_data"
    }
   ],
   "source": [
    "plt.figure(figsize=(12, 7))\n",
    "sns.boxplot(data=cross_df_p\n",
    "            .melt(), x=\"variable\", y=\"value\", showmeans=True, meanprops={\"marker\":\"o\",\n",
    "                       \"markerfacecolor\":\"white\", \n",
    "                       \"markeredgecolor\":\"black\",\n",
    "                      \"markersize\":\"10\"})\n",
    "plt.xlabel(\"Classification Model\")\n",
    "plt.ylabel(\"Accuracy Score\")\n",
    "plt.show()"
   ]
  },
  {
   "cell_type": "code",
   "execution_count": 19,
   "id": "40200153",
   "metadata": {},
   "outputs": [
    {
     "data": {
      "text/html": [
       "<div>\n",
       "<style scoped>\n",
       "    .dataframe tbody tr th:only-of-type {\n",
       "        vertical-align: middle;\n",
       "    }\n",
       "\n",
       "    .dataframe tbody tr th {\n",
       "        vertical-align: top;\n",
       "    }\n",
       "\n",
       "    .dataframe thead th {\n",
       "        text-align: right;\n",
       "    }\n",
       "</style>\n",
       "<table border=\"1\" class=\"dataframe\">\n",
       "  <thead>\n",
       "    <tr style=\"text-align: right;\">\n",
       "      <th></th>\n",
       "      <th>KNN</th>\n",
       "      <th>Logistic Regression</th>\n",
       "      <th>Decision Tree</th>\n",
       "      <th>Random Forest</th>\n",
       "    </tr>\n",
       "  </thead>\n",
       "  <tbody>\n",
       "    <tr>\n",
       "      <th>0</th>\n",
       "      <td>0.974322</td>\n",
       "      <td>0.974322</td>\n",
       "      <td>0.955777</td>\n",
       "      <td>0.974322</td>\n",
       "    </tr>\n",
       "    <tr>\n",
       "      <th>1</th>\n",
       "      <td>0.961484</td>\n",
       "      <td>0.961484</td>\n",
       "      <td>0.941512</td>\n",
       "      <td>0.957204</td>\n",
       "    </tr>\n",
       "    <tr>\n",
       "      <th>2</th>\n",
       "      <td>0.970043</td>\n",
       "      <td>0.968616</td>\n",
       "      <td>0.935806</td>\n",
       "      <td>0.967190</td>\n",
       "    </tr>\n",
       "    <tr>\n",
       "      <th>3</th>\n",
       "      <td>0.975749</td>\n",
       "      <td>0.970043</td>\n",
       "      <td>0.957204</td>\n",
       "      <td>0.971469</td>\n",
       "    </tr>\n",
       "    <tr>\n",
       "      <th>4</th>\n",
       "      <td>0.951498</td>\n",
       "      <td>0.954351</td>\n",
       "      <td>0.948645</td>\n",
       "      <td>0.958631</td>\n",
       "    </tr>\n",
       "    <tr>\n",
       "      <th>5</th>\n",
       "      <td>0.974322</td>\n",
       "      <td>0.970043</td>\n",
       "      <td>0.958631</td>\n",
       "      <td>0.971469</td>\n",
       "    </tr>\n",
       "    <tr>\n",
       "      <th>6</th>\n",
       "      <td>0.957204</td>\n",
       "      <td>0.960057</td>\n",
       "      <td>0.955777</td>\n",
       "      <td>0.960057</td>\n",
       "    </tr>\n",
       "    <tr>\n",
       "      <th>7</th>\n",
       "      <td>0.974322</td>\n",
       "      <td>0.978602</td>\n",
       "      <td>0.954351</td>\n",
       "      <td>0.975749</td>\n",
       "    </tr>\n",
       "    <tr>\n",
       "      <th>8</th>\n",
       "      <td>0.968571</td>\n",
       "      <td>0.968571</td>\n",
       "      <td>0.950000</td>\n",
       "      <td>0.965714</td>\n",
       "    </tr>\n",
       "    <tr>\n",
       "      <th>9</th>\n",
       "      <td>0.964286</td>\n",
       "      <td>0.962857</td>\n",
       "      <td>0.931429</td>\n",
       "      <td>0.961429</td>\n",
       "    </tr>\n",
       "  </tbody>\n",
       "</table>\n",
       "</div>"
      ],
      "text/plain": [
       "        KNN  Logistic Regression  Decision Tree  Random Forest\n",
       "0  0.974322             0.974322       0.955777       0.974322\n",
       "1  0.961484             0.961484       0.941512       0.957204\n",
       "2  0.970043             0.968616       0.935806       0.967190\n",
       "3  0.975749             0.970043       0.957204       0.971469\n",
       "4  0.951498             0.954351       0.948645       0.958631\n",
       "5  0.974322             0.970043       0.958631       0.971469\n",
       "6  0.957204             0.960057       0.955777       0.960057\n",
       "7  0.974322             0.978602       0.954351       0.975749\n",
       "8  0.968571             0.968571       0.950000       0.965714\n",
       "9  0.964286             0.962857       0.931429       0.961429"
      ]
     },
     "execution_count": 19,
     "metadata": {},
     "output_type": "execute_result"
    }
   ],
   "source": [
    "cross_df_p"
   ]
  },
  {
   "cell_type": "markdown",
   "id": "d73b51d4",
   "metadata": {},
   "source": [
    "## ANOVA test to see if means are significantly different or not"
   ]
  },
  {
   "cell_type": "code",
   "execution_count": 37,
   "id": "0e2c7084",
   "metadata": {},
   "outputs": [
    {
     "data": {
      "text/html": [
       "<div>\n",
       "<style scoped>\n",
       "    .dataframe tbody tr th:only-of-type {\n",
       "        vertical-align: middle;\n",
       "    }\n",
       "\n",
       "    .dataframe tbody tr th {\n",
       "        vertical-align: top;\n",
       "    }\n",
       "\n",
       "    .dataframe thead th {\n",
       "        text-align: right;\n",
       "    }\n",
       "</style>\n",
       "<table border=\"1\" class=\"dataframe\">\n",
       "  <thead>\n",
       "    <tr style=\"text-align: right;\">\n",
       "      <th></th>\n",
       "      <th>df</th>\n",
       "      <th>sum_sq</th>\n",
       "      <th>mean_sq</th>\n",
       "      <th>F</th>\n",
       "      <th>PR(&gt;F)</th>\n",
       "    </tr>\n",
       "  </thead>\n",
       "  <tbody>\n",
       "    <tr>\n",
       "      <th>C(model)</th>\n",
       "      <td>3.0</td>\n",
       "      <td>0.002403</td>\n",
       "      <td>0.000801</td>\n",
       "      <td>12.412213</td>\n",
       "      <td>0.00001</td>\n",
       "    </tr>\n",
       "    <tr>\n",
       "      <th>Residual</th>\n",
       "      <td>36.0</td>\n",
       "      <td>0.002323</td>\n",
       "      <td>0.000065</td>\n",
       "      <td>NaN</td>\n",
       "      <td>NaN</td>\n",
       "    </tr>\n",
       "  </tbody>\n",
       "</table>\n",
       "</div>"
      ],
      "text/plain": [
       "            df    sum_sq   mean_sq          F   PR(>F)\n",
       "C(model)   3.0  0.002403  0.000801  12.412213  0.00001\n",
       "Residual  36.0  0.002323  0.000065        NaN      NaN"
      ]
     },
     "execution_count": 37,
     "metadata": {},
     "output_type": "execute_result"
    }
   ],
   "source": [
    "from bioinfokit.analys import stat\n",
    "cross_df_p_melt = pd.melt(cross_df_p.reset_index(), id_vars=['index'], value_vars=['KNN', 'Logistic Regression', 'Decision Tree', 'Random Forest'])\n",
    "cross_df_p_melt.columns = [\"index\", \"model\", \"value\"]\n",
    "res = stat()\n",
    "res.anova_stat(df=cross_df_p_melt, res_var='value', anova_model='value ~ C(model)')\n",
    "res.anova_summary"
   ]
  },
  {
   "cell_type": "code",
   "execution_count": 38,
   "id": "381e44a5",
   "metadata": {},
   "outputs": [
    {
     "name": "stderr",
     "output_type": "stream",
     "text": [
      "/usr/local/lib/python3.9/site-packages/bioinfokit/analys.py:402: FutureWarning: Dropping of nuisance columns in DataFrame reductions (with 'numeric_only=None') is deprecated; in a future version this will raise TypeError.  Select only valid columns before calling the reduction.\n",
      "  mult_group[ele] = df[df[xfac_var] == ele].mean().loc[res_var]\n"
     ]
    },
    {
     "data": {
      "text/html": [
       "<div>\n",
       "<style scoped>\n",
       "    .dataframe tbody tr th:only-of-type {\n",
       "        vertical-align: middle;\n",
       "    }\n",
       "\n",
       "    .dataframe tbody tr th {\n",
       "        vertical-align: top;\n",
       "    }\n",
       "\n",
       "    .dataframe thead th {\n",
       "        text-align: right;\n",
       "    }\n",
       "</style>\n",
       "<table border=\"1\" class=\"dataframe\">\n",
       "  <thead>\n",
       "    <tr style=\"text-align: right;\">\n",
       "      <th></th>\n",
       "      <th>group1</th>\n",
       "      <th>group2</th>\n",
       "      <th>Diff</th>\n",
       "      <th>Lower</th>\n",
       "      <th>Upper</th>\n",
       "      <th>q-value</th>\n",
       "      <th>p-value</th>\n",
       "    </tr>\n",
       "  </thead>\n",
       "  <tbody>\n",
       "    <tr>\n",
       "      <th>0</th>\n",
       "      <td>KNN</td>\n",
       "      <td>Logistic Regression</td>\n",
       "      <td>0.000286</td>\n",
       "      <td>-0.009391</td>\n",
       "      <td>0.009962</td>\n",
       "      <td>0.112386</td>\n",
       "      <td>0.900</td>\n",
       "    </tr>\n",
       "    <tr>\n",
       "      <th>1</th>\n",
       "      <td>KNN</td>\n",
       "      <td>Decision Tree</td>\n",
       "      <td>0.018267</td>\n",
       "      <td>0.008591</td>\n",
       "      <td>0.027943</td>\n",
       "      <td>7.190487</td>\n",
       "      <td>0.001</td>\n",
       "    </tr>\n",
       "    <tr>\n",
       "      <th>2</th>\n",
       "      <td>KNN</td>\n",
       "      <td>Random Forest</td>\n",
       "      <td>0.000857</td>\n",
       "      <td>-0.008819</td>\n",
       "      <td>0.010533</td>\n",
       "      <td>0.337240</td>\n",
       "      <td>0.900</td>\n",
       "    </tr>\n",
       "    <tr>\n",
       "      <th>3</th>\n",
       "      <td>Logistic Regression</td>\n",
       "      <td>Decision Tree</td>\n",
       "      <td>0.017981</td>\n",
       "      <td>0.008305</td>\n",
       "      <td>0.027658</td>\n",
       "      <td>7.078101</td>\n",
       "      <td>0.001</td>\n",
       "    </tr>\n",
       "    <tr>\n",
       "      <th>4</th>\n",
       "      <td>Logistic Regression</td>\n",
       "      <td>Random Forest</td>\n",
       "      <td>0.000571</td>\n",
       "      <td>-0.009105</td>\n",
       "      <td>0.010247</td>\n",
       "      <td>0.224853</td>\n",
       "      <td>0.900</td>\n",
       "    </tr>\n",
       "    <tr>\n",
       "      <th>5</th>\n",
       "      <td>Decision Tree</td>\n",
       "      <td>Random Forest</td>\n",
       "      <td>0.017410</td>\n",
       "      <td>0.007734</td>\n",
       "      <td>0.027086</td>\n",
       "      <td>6.853248</td>\n",
       "      <td>0.001</td>\n",
       "    </tr>\n",
       "  </tbody>\n",
       "</table>\n",
       "</div>"
      ],
      "text/plain": [
       "                group1               group2      Diff     Lower     Upper  \\\n",
       "0                  KNN  Logistic Regression  0.000286 -0.009391  0.009962   \n",
       "1                  KNN        Decision Tree  0.018267  0.008591  0.027943   \n",
       "2                  KNN        Random Forest  0.000857 -0.008819  0.010533   \n",
       "3  Logistic Regression        Decision Tree  0.017981  0.008305  0.027658   \n",
       "4  Logistic Regression        Random Forest  0.000571 -0.009105  0.010247   \n",
       "5        Decision Tree        Random Forest  0.017410  0.007734  0.027086   \n",
       "\n",
       "    q-value  p-value  \n",
       "0  0.112386    0.900  \n",
       "1  7.190487    0.001  \n",
       "2  0.337240    0.900  \n",
       "3  7.078101    0.001  \n",
       "4  0.224853    0.900  \n",
       "5  6.853248    0.001  "
      ]
     },
     "execution_count": 38,
     "metadata": {},
     "output_type": "execute_result"
    }
   ],
   "source": [
    "res = stat()\n",
    "res.tukey_hsd(df=cross_df_p_melt, res_var='value', xfac_var='model', anova_model='value ~ C(model)')\n",
    "res.tukey_summary"
   ]
  },
  {
   "cell_type": "markdown",
   "id": "47e8594e",
   "metadata": {},
   "source": [
    "## Flows"
   ]
  },
  {
   "cell_type": "code",
   "execution_count": 9,
   "id": "1d327a1d",
   "metadata": {
    "ExecuteTime": {
     "end_time": "2022-07-01T13:04:28.486536Z",
     "start_time": "2022-07-01T13:04:19.288840Z"
    }
   },
   "outputs": [],
   "source": [
    "cross_knn_f = cross_val_score(KNeighborsClassifier(), X_train_f, y_train_f, scoring=\"accuracy\", cv=10)\n",
    "cross_logistic_f = cross_val_score(LogisticRegression(max_iter=200), X_train_f, y_train_f, scoring=\"accuracy\", cv=10)\n",
    "cross_dtree_f = cross_val_score(DecisionTreeClassifier(), X_train_f, y_train_f, scoring=\"accuracy\", cv=10)\n",
    "cross_randomf_f = cross_val_score(RandomForestClassifier(), X_train_f, y_train_f, scoring=\"accuracy\", cv=10)"
   ]
  },
  {
   "cell_type": "code",
   "execution_count": 10,
   "id": "db127b4c",
   "metadata": {
    "ExecuteTime": {
     "end_time": "2022-07-01T13:04:28.501808Z",
     "start_time": "2022-07-01T13:04:28.491428Z"
    }
   },
   "outputs": [],
   "source": [
    "cross_df_f = pd.DataFrame([\n",
    "    cross_knn_f,\n",
    "    cross_logistic_f,\n",
    "    cross_dtree_f,\n",
    "    cross_randomf_f,\n",
    "]).T\n",
    "cross_df_f.columns = [\"KNN\", \"Logistic Regression\", \"Decision Tree\", \"Random Forest\"]"
   ]
  },
  {
   "cell_type": "code",
   "execution_count": 11,
   "id": "4964af0f",
   "metadata": {
    "ExecuteTime": {
     "end_time": "2022-07-01T13:04:28.811045Z",
     "start_time": "2022-07-01T13:04:28.504717Z"
    }
   },
   "outputs": [
    {
     "data": {
      "image/png": "[encoded data removed]",
      "text/plain": [
       "<Figure size 864x504 with 1 Axes>"
      ]
     },
     "metadata": {
      "needs_background": "light"
     },
     "output_type": "display_data"
    }
   ],
   "source": [
    "plt.figure(figsize=(12, 7))\n",
    "sns.boxplot(data=cross_df_f\n",
    "            .melt(), x=\"variable\", y=\"value\", showmeans=True, meanprops={\"marker\":\"o\",\n",
    "                       \"markerfacecolor\":\"white\", \n",
    "                       \"markeredgecolor\":\"black\",\n",
    "                      \"markersize\":\"10\"})\n",
    "plt.xlabel(\"Classification Model\")\n",
    "plt.ylabel(\"Accuracy Score\")\n",
    "plt.show()"
   ]
  },
  {
   "cell_type": "code",
   "execution_count": 39,
   "id": "3a5468b6",
   "metadata": {},
   "outputs": [
    {
     "data": {
      "text/html": [
       "<div>\n",
       "<style scoped>\n",
       "    .dataframe tbody tr th:only-of-type {\n",
       "        vertical-align: middle;\n",
       "    }\n",
       "\n",
       "    .dataframe tbody tr th {\n",
       "        vertical-align: top;\n",
       "    }\n",
       "\n",
       "    .dataframe thead th {\n",
       "        text-align: right;\n",
       "    }\n",
       "</style>\n",
       "<table border=\"1\" class=\"dataframe\">\n",
       "  <thead>\n",
       "    <tr style=\"text-align: right;\">\n",
       "      <th></th>\n",
       "      <th>df</th>\n",
       "      <th>sum_sq</th>\n",
       "      <th>mean_sq</th>\n",
       "      <th>F</th>\n",
       "      <th>PR(&gt;F)</th>\n",
       "    </tr>\n",
       "  </thead>\n",
       "  <tbody>\n",
       "    <tr>\n",
       "      <th>C(model)</th>\n",
       "      <td>3.0</td>\n",
       "      <td>0.008198</td>\n",
       "      <td>0.002733</td>\n",
       "      <td>39.817089</td>\n",
       "      <td>1.584627e-11</td>\n",
       "    </tr>\n",
       "    <tr>\n",
       "      <th>Residual</th>\n",
       "      <td>36.0</td>\n",
       "      <td>0.002471</td>\n",
       "      <td>0.000069</td>\n",
       "      <td>NaN</td>\n",
       "      <td>NaN</td>\n",
       "    </tr>\n",
       "  </tbody>\n",
       "</table>\n",
       "</div>"
      ],
      "text/plain": [
       "            df    sum_sq   mean_sq          F        PR(>F)\n",
       "C(model)   3.0  0.008198  0.002733  39.817089  1.584627e-11\n",
       "Residual  36.0  0.002471  0.000069        NaN           NaN"
      ]
     },
     "execution_count": 39,
     "metadata": {},
     "output_type": "execute_result"
    }
   ],
   "source": [
    "cross_df_f_melt = pd.melt(cross_df_f.reset_index(), id_vars=['index'], value_vars=['KNN', 'Logistic Regression', 'Decision Tree', 'Random Forest'])\n",
    "cross_df_f_melt.columns = [\"index\", \"model\", \"value\"]\n",
    "res = stat()\n",
    "res.anova_stat(df=cross_df_f_melt, res_var='value', anova_model='value ~ C(model)')\n",
    "res.anova_summary"
   ]
  },
  {
   "cell_type": "code",
   "execution_count": 40,
   "id": "69480066",
   "metadata": {},
   "outputs": [
    {
     "name": "stderr",
     "output_type": "stream",
     "text": [
      "/usr/local/lib/python3.9/site-packages/bioinfokit/analys.py:402: FutureWarning: Dropping of nuisance columns in DataFrame reductions (with 'numeric_only=None') is deprecated; in a future version this will raise TypeError.  Select only valid columns before calling the reduction.\n",
      "  mult_group[ele] = df[df[xfac_var] == ele].mean().loc[res_var]\n"
     ]
    },
    {
     "data": {
      "text/html": [
       "<div>\n",
       "<style scoped>\n",
       "    .dataframe tbody tr th:only-of-type {\n",
       "        vertical-align: middle;\n",
       "    }\n",
       "\n",
       "    .dataframe tbody tr th {\n",
       "        vertical-align: top;\n",
       "    }\n",
       "\n",
       "    .dataframe thead th {\n",
       "        text-align: right;\n",
       "    }\n",
       "</style>\n",
       "<table border=\"1\" class=\"dataframe\">\n",
       "  <thead>\n",
       "    <tr style=\"text-align: right;\">\n",
       "      <th></th>\n",
       "      <th>group1</th>\n",
       "      <th>group2</th>\n",
       "      <th>Diff</th>\n",
       "      <th>Lower</th>\n",
       "      <th>Upper</th>\n",
       "      <th>q-value</th>\n",
       "      <th>p-value</th>\n",
       "    </tr>\n",
       "  </thead>\n",
       "  <tbody>\n",
       "    <tr>\n",
       "      <th>0</th>\n",
       "      <td>KNN</td>\n",
       "      <td>Logistic Regression</td>\n",
       "      <td>0.000428</td>\n",
       "      <td>-0.009550</td>\n",
       "      <td>0.010406</td>\n",
       "      <td>0.163519</td>\n",
       "      <td>0.900</td>\n",
       "    </tr>\n",
       "    <tr>\n",
       "      <th>1</th>\n",
       "      <td>KNN</td>\n",
       "      <td>Decision Tree</td>\n",
       "      <td>0.033249</td>\n",
       "      <td>0.023271</td>\n",
       "      <td>0.043227</td>\n",
       "      <td>12.692082</td>\n",
       "      <td>0.001</td>\n",
       "    </tr>\n",
       "    <tr>\n",
       "      <th>2</th>\n",
       "      <td>KNN</td>\n",
       "      <td>Random Forest</td>\n",
       "      <td>0.000143</td>\n",
       "      <td>-0.009835</td>\n",
       "      <td>0.010121</td>\n",
       "      <td>0.054454</td>\n",
       "      <td>0.900</td>\n",
       "    </tr>\n",
       "    <tr>\n",
       "      <th>3</th>\n",
       "      <td>Logistic Regression</td>\n",
       "      <td>Decision Tree</td>\n",
       "      <td>0.032821</td>\n",
       "      <td>0.022843</td>\n",
       "      <td>0.042799</td>\n",
       "      <td>12.528563</td>\n",
       "      <td>0.001</td>\n",
       "    </tr>\n",
       "    <tr>\n",
       "      <th>4</th>\n",
       "      <td>Logistic Regression</td>\n",
       "      <td>Random Forest</td>\n",
       "      <td>0.000286</td>\n",
       "      <td>-0.009692</td>\n",
       "      <td>0.010264</td>\n",
       "      <td>0.109064</td>\n",
       "      <td>0.900</td>\n",
       "    </tr>\n",
       "    <tr>\n",
       "      <th>5</th>\n",
       "      <td>Decision Tree</td>\n",
       "      <td>Random Forest</td>\n",
       "      <td>0.033107</td>\n",
       "      <td>0.023129</td>\n",
       "      <td>0.043085</td>\n",
       "      <td>12.637628</td>\n",
       "      <td>0.001</td>\n",
       "    </tr>\n",
       "  </tbody>\n",
       "</table>\n",
       "</div>"
      ],
      "text/plain": [
       "                group1               group2      Diff     Lower     Upper  \\\n",
       "0                  KNN  Logistic Regression  0.000428 -0.009550  0.010406   \n",
       "1                  KNN        Decision Tree  0.033249  0.023271  0.043227   \n",
       "2                  KNN        Random Forest  0.000143 -0.009835  0.010121   \n",
       "3  Logistic Regression        Decision Tree  0.032821  0.022843  0.042799   \n",
       "4  Logistic Regression        Random Forest  0.000286 -0.009692  0.010264   \n",
       "5        Decision Tree        Random Forest  0.033107  0.023129  0.043085   \n",
       "\n",
       "     q-value  p-value  \n",
       "0   0.163519    0.900  \n",
       "1  12.692082    0.001  \n",
       "2   0.054454    0.900  \n",
       "3  12.528563    0.001  \n",
       "4   0.109064    0.900  \n",
       "5  12.637628    0.001  "
      ]
     },
     "execution_count": 40,
     "metadata": {},
     "output_type": "execute_result"
    }
   ],
   "source": [
    "res = stat()\n",
    "res.tukey_hsd(df=cross_df_f_melt, res_var='value', xfac_var='model', anova_model='value ~ C(model)')\n",
    "res.tukey_summary"
   ]
  },
  {
   "cell_type": "markdown",
   "id": "c4fd4458",
   "metadata": {},
   "source": [
    "In both cases, Random forest seems to be the most accurate model, if we consider mean accuracy_score"
   ]
  },
  {
   "cell_type": "markdown",
   "id": "7c8046c5",
   "metadata": {},
   "source": [
    "# Analyzing confusion matrix"
   ]
  },
  {
   "cell_type": "markdown",
   "id": "b664b9c5",
   "metadata": {},
   "source": [
    "## Pressures"
   ]
  },
  {
   "cell_type": "code",
   "execution_count": 12,
   "id": "6b46ec67",
   "metadata": {
    "ExecuteTime": {
     "end_time": "2022-07-01T13:04:30.030983Z",
     "start_time": "2022-07-01T13:04:28.812903Z"
    }
   },
   "outputs": [
    {
     "name": "stdout",
     "output_type": "stream",
     "text": [
      "              precision    recall  f1-score   support\n",
      "\n",
      "         0.0       0.96      1.00      0.98      1547\n",
      "         1.0       0.97      0.70      0.81       205\n",
      "\n",
      "    accuracy                           0.96      1752\n",
      "   macro avg       0.96      0.85      0.89      1752\n",
      "weighted avg       0.96      0.96      0.96      1752\n",
      "\n"
     ]
    },
    {
     "data": {
      "text/plain": [
       "<sklearn.metrics._plot.confusion_matrix.ConfusionMatrixDisplay at 0x124583ee0>"
      ]
     },
     "execution_count": 12,
     "metadata": {},
     "output_type": "execute_result"
    },
    {
     "data": {
      "image/png": "[encoded data removed]",
      "text/plain": [
       "<Figure size 432x288 with 2 Axes>"
      ]
     },
     "metadata": {
      "needs_background": "light"
     },
     "output_type": "display_data"
    }
   ],
   "source": [
    "rf_p = RandomForestClassifier()\n",
    "rf_p.fit(X_train_p, y_train_p)\n",
    "predictions = rf_p.predict(X_test_p)\n",
    "print(classification_report(y_pred=predictions, y_true=y_test_p))\n",
    "cm = confusion_matrix(y_true=y_test_p, y_pred=predictions, labels=rf_p.classes_)\n",
    "disp = ConfusionMatrixDisplay(cm, display_labels=rf_p.classes_)\n",
    "disp.plot()"
   ]
  },
  {
   "cell_type": "markdown",
   "id": "fb05209d",
   "metadata": {},
   "source": [
    "We have a precision of 96% on detecting anomalies (label 1) and a recall of 70% : 70% of all the anomalies presents in the validation set are deteceted"
   ]
  },
  {
   "cell_type": "markdown",
   "id": "591e4a01",
   "metadata": {},
   "source": [
    "## Flows"
   ]
  },
  {
   "cell_type": "code",
   "execution_count": 13,
   "id": "d0724dfa",
   "metadata": {
    "ExecuteTime": {
     "end_time": "2022-07-01T13:04:31.150966Z",
     "start_time": "2022-07-01T13:04:30.033272Z"
    }
   },
   "outputs": [
    {
     "name": "stdout",
     "output_type": "stream",
     "text": [
      "              precision    recall  f1-score   support\n",
      "\n",
      "         0.0       0.96      1.00      0.98      1547\n",
      "         1.0       0.99      0.71      0.83       205\n",
      "\n",
      "    accuracy                           0.97      1752\n",
      "   macro avg       0.98      0.85      0.90      1752\n",
      "weighted avg       0.97      0.97      0.96      1752\n",
      "\n"
     ]
    },
    {
     "data": {
      "text/plain": [
       "<sklearn.metrics._plot.confusion_matrix.ConfusionMatrixDisplay at 0x1245beaf0>"
      ]
     },
     "execution_count": 13,
     "metadata": {},
     "output_type": "execute_result"
    },
    {
     "data": {
      "image/png": "[encoded data removed]",
      "text/plain": [
       "<Figure size 432x288 with 2 Axes>"
      ]
     },
     "metadata": {
      "needs_background": "light"
     },
     "output_type": "display_data"
    }
   ],
   "source": [
    "rf_f = RandomForestClassifier()\n",
    "rf_f.fit(X_train_f, y_train_f)\n",
    "predictions = rf_f.predict(X_test_f)\n",
    "print(classification_report(y_pred=predictions, y_true=y_test_f))\n",
    "cm = confusion_matrix(y_true=y_test_f, y_pred=predictions, labels=rf_f.classes_)\n",
    "disp = ConfusionMatrixDisplay(cm, display_labels=rf_f.classes_)\n",
    "disp.plot()"
   ]
  },
  {
   "cell_type": "markdown",
   "id": "c50a910c",
   "metadata": {},
   "source": [
    "Considering flows, we are more precise (100% precision on detecting anomalies) but we detecte less anomalies (71% against 70% on pressures)"
   ]
  },
  {
   "cell_type": "markdown",
   "id": "5e56009b",
   "metadata": {},
   "source": [
    "# Importance of SARIMA model to create \"difference\" feature"
   ]
  },
  {
   "cell_type": "markdown",
   "id": "7f80b730",
   "metadata": {},
   "source": [
    "## Pressures"
   ]
  },
  {
   "cell_type": "code",
   "execution_count": 14,
   "id": "08ab1c2d",
   "metadata": {
    "ExecuteTime": {
     "end_time": "2022-07-01T13:04:31.367830Z",
     "start_time": "2022-07-01T13:04:31.154505Z"
    }
   },
   "outputs": [
    {
     "name": "stdout",
     "output_type": "stream",
     "text": [
      "Index(['node_21_mean', 'node_21_std', 'node_21_median', 'node_21_min',\n",
      "       'node_21_max', 'difference'],\n",
      "      dtype='object')\n"
     ]
    },
    {
     "data": {
      "image/png": "[encoded data removed]",
      "text/plain": [
       "<Figure size 432x288 with 1 Axes>"
      ]
     },
     "metadata": {
      "needs_background": "light"
     },
     "output_type": "display_data"
    }
   ],
   "source": [
    "importances = rf_p.feature_importances_\n",
    "feature_names = pressures_df.drop([\"label\", \"node_21_forecast\"], axis=1).columns\n",
    "print(feature_names)\n",
    "forest_importances = pd.Series(importances, index=feature_names)\n",
    "\n",
    "fig, ax = plt.subplots()\n",
    "forest_importances.plot.bar(ax=ax)\n",
    "ax.set_title(\"Feature importances using MDI\")\n",
    "ax.set_ylabel(\"Mean decrease in impurity\")\n",
    "fig.tight_layout()"
   ]
  },
  {
   "cell_type": "markdown",
   "id": "fa89fcbb",
   "metadata": {},
   "source": [
    "## Flows"
   ]
  },
  {
   "cell_type": "code",
   "execution_count": 15,
   "id": "159f35b2",
   "metadata": {
    "ExecuteTime": {
     "end_time": "2022-07-01T13:04:31.558469Z",
     "start_time": "2022-07-01T13:04:31.370497Z"
    }
   },
   "outputs": [
    {
     "name": "stdout",
     "output_type": "stream",
     "text": [
      "Index(['link_21_mean', 'link_21_std', 'link_21_median', 'link_21_min',\n",
      "       'link_21_max', 'difference'],\n",
      "      dtype='object')\n"
     ]
    },
    {
     "data": {
      "image/png": "[encoded data removed]",
      "text/plain": [
       "<Figure size 432x288 with 1 Axes>"
      ]
     },
     "metadata": {
      "needs_background": "light"
     },
     "output_type": "display_data"
    }
   ],
   "source": [
    "importances = rf_f.feature_importances_\n",
    "feature_names = flows_df.drop([\"label\", \"link_21_forecast\"], axis=1).columns\n",
    "print(feature_names)\n",
    "forest_importances = pd.Series(importances, index=feature_names)\n",
    "\n",
    "fig, ax = plt.subplots()\n",
    "forest_importances.plot.bar(ax=ax)\n",
    "ax.set_title(\"Feature importances using MDI\")\n",
    "ax.set_ylabel(\"Mean decrease in impurity\")\n",
    "fig.tight_layout()"
   ]
  },
  {
   "cell_type": "markdown",
   "id": "7d167c35",
   "metadata": {},
   "source": [
    "In both cases, the feature *difference* seems to be important on decreasing impurity criterion and then on detceting anomaly"
   ]
  },
  {
   "cell_type": "markdown",
   "id": "a78b3895",
   "metadata": {},
   "source": [
    "## Trained model performance without \"difference\""
   ]
  },
  {
   "cell_type": "markdown",
   "id": "93044bc8",
   "metadata": {},
   "source": [
    "### Pressures"
   ]
  },
  {
   "cell_type": "code",
   "execution_count": 16,
   "id": "cabbeadd",
   "metadata": {
    "ExecuteTime": {
     "end_time": "2022-07-01T13:04:33.054212Z",
     "start_time": "2022-07-01T13:04:31.563038Z"
    }
   },
   "outputs": [
    {
     "name": "stdout",
     "output_type": "stream",
     "text": [
      "              precision    recall  f1-score   support\n",
      "\n",
      "         0.0       0.96      1.00      0.98      1547\n",
      "         1.0       0.99      0.68      0.81       205\n",
      "\n",
      "    accuracy                           0.96      1752\n",
      "   macro avg       0.98      0.84      0.89      1752\n",
      "weighted avg       0.96      0.96      0.96      1752\n",
      "\n"
     ]
    },
    {
     "data": {
      "text/plain": [
       "<sklearn.metrics._plot.confusion_matrix.ConfusionMatrixDisplay at 0x1244d1c70>"
      ]
     },
     "execution_count": 16,
     "metadata": {},
     "output_type": "execute_result"
    },
    {
     "data": {
      "image/png": "[encoded data removed]",
      "text/plain": [
       "<Figure size 432x288 with 2 Axes>"
      ]
     },
     "metadata": {
      "needs_background": "light"
     },
     "output_type": "display_data"
    }
   ],
   "source": [
    "rf_p2 = RandomForestClassifier()\n",
    "rf_p2.fit(X_train_p.drop(\"difference\", axis=1), y_train_p)\n",
    "predictions = rf_p2.predict(X_test_p.drop(\"difference\", axis=1))\n",
    "print(classification_report(y_pred=predictions, y_true=y_test_p))\n",
    "cm = confusion_matrix(y_true=y_test_p, y_pred=predictions, labels=rf_p2.classes_)\n",
    "disp = ConfusionMatrixDisplay(cm, display_labels=rf_p2.classes_)\n",
    "disp.plot()"
   ]
  },
  {
   "cell_type": "markdown",
   "id": "26cd8bb1",
   "metadata": {},
   "source": [
    "### Flows"
   ]
  },
  {
   "cell_type": "code",
   "execution_count": 17,
   "id": "a2a5bb80",
   "metadata": {
    "ExecuteTime": {
     "end_time": "2022-07-01T13:04:34.114166Z",
     "start_time": "2022-07-01T13:04:33.057155Z"
    }
   },
   "outputs": [
    {
     "name": "stdout",
     "output_type": "stream",
     "text": [
      "              precision    recall  f1-score   support\n",
      "\n",
      "         0.0       0.96      1.00      0.98      1547\n",
      "         1.0       0.97      0.67      0.79       205\n",
      "\n",
      "    accuracy                           0.96      1752\n",
      "   macro avg       0.96      0.83      0.88      1752\n",
      "weighted avg       0.96      0.96      0.96      1752\n",
      "\n"
     ]
    },
    {
     "data": {
      "text/plain": [
       "<sklearn.metrics._plot.confusion_matrix.ConfusionMatrixDisplay at 0x1248f80d0>"
      ]
     },
     "execution_count": 17,
     "metadata": {},
     "output_type": "execute_result"
    },
    {
     "data": {
      "image/png": "[encoded data removed]",
      "text/plain": [
       "<Figure size 432x288 with 2 Axes>"
      ]
     },
     "metadata": {
      "needs_background": "light"
     },
     "output_type": "display_data"
    }
   ],
   "source": [
    "rf_f2 = RandomForestClassifier()\n",
    "rf_f2.fit(X_train_f.drop(\"difference\", axis=1), y_train_f)\n",
    "predictions = rf_f2.predict(X_test_f.drop(\"difference\", axis=1))\n",
    "print(classification_report(y_pred=predictions, y_true=y_test_f))\n",
    "cm = confusion_matrix(y_true=y_test_f, y_pred=predictions, labels=rf_f2.classes_)\n",
    "disp = ConfusionMatrixDisplay(cm, display_labels=rf_f2.classes_)\n",
    "disp.plot()"
   ]
  },
  {
   "cell_type": "markdown",
   "id": "ff6158b2",
   "metadata": {},
   "source": [
    "Using the *difference* feature lets us to imrove the recall metric on pressures validation set (68% to 70%) but we lose a little of precision (99% to 97%). On the flows validation set, using the *difference* feature improves the recall of the model (67% to 71%) and improves precision (97% to 99%)"
   ]
  },
  {
   "cell_type": "markdown",
   "id": "4d44913d",
   "metadata": {},
   "source": [
    "# Saving models"
   ]
  },
  {
   "cell_type": "code",
   "execution_count": 18,
   "id": "d6471baf",
   "metadata": {
    "ExecuteTime": {
     "end_time": "2022-07-01T13:09:03.200236Z",
     "start_time": "2022-07-01T13:09:03.026255Z"
    }
   },
   "outputs": [],
   "source": [
    "pickle.dump(rf_p, open(\"../data/models/random_forest_pressures.pickle\", \"wb\"))\n",
    "pickle.dump(rf_f, open(\"../data/models/random_forest_flows.pickle\", \"wb\"))"
   ]
  },
  {
   "cell_type": "code",
   "execution_count": null,
   "id": "2b69c642",
   "metadata": {},
   "outputs": [],
   "source": []
  }
 ],
 "metadata": {
  "hide_input": false,
  "kernelspec": {
   "display_name": "Python 3 (ipykernel)",
   "language": "python",
   "name": "python3"
  },
  "language_info": {
   "codemirror_mode": {
    "name": "ipython",
    "version": 3
   },
   "file_extension": ".py",
   "mimetype": "text/x-python",
   "name": "python",
   "nbconvert_exporter": "python",
   "pygments_lexer": "ipython3",
   "version": "3.9.8"
  },
  "latex_envs": {
   "LaTeX_envs_menu_present": true,
   "autoclose": false,
   "autocomplete": true,
   "bibliofile": "biblio.bib",
   "cite_by": "apalike",
   "current_citInitial": 1,
   "eqLabelWithNumbers": true,
   "eqNumInitial": 1,
   "hotkeys": {
    "equation": "Ctrl-E",
    "itemize": "Ctrl-I"
   },
   "labels_anchors": false,
   "latex_user_defs": false,
   "report_style_numbering": false,
   "user_envs_cfg": false
  },
  "toc": {
   "base_numbering": 1,
   "nav_menu": {},
   "number_sections": true,
   "sideBar": true,
   "skip_h1_title": false,
   "title_cell": "Table of Contents",
   "title_sidebar": "Contents",
   "toc_cell": false,
   "toc_position": {},
   "toc_section_display": true,
   "toc_window_display": false
  },
  "varInspector": {
   "cols": {
    "lenName": 16,
    "lenType": 16,
    "lenVar": 40
   },
   "kernels_config": {
    "python": {
     "delete_cmd_postfix": "",
     "delete_cmd_prefix": "del ",
     "library": "var_list.py",
     "varRefreshCmd": "print(var_dic_list())"
    },
    "r": {
     "delete_cmd_postfix": ") ",
     "delete_cmd_prefix": "rm(",
     "library": "var_list.r",
     "varRefreshCmd": "cat(var_dic_list()) "
    }
   },
   "types_to_exclude": [
    "module",
    "function",
    "builtin_function_or_method",
    "instance",
    "_Feature"
   ],
   "window_display": false
  },
  "vscode": {
   "interpreter": {
    "hash": "aee8b7b246df8f9039afb4144a1f6fd8d2ca17a180786b69acc140d282b71a49"
   }
  }
 },
 "nbformat": 4,
 "nbformat_minor": 5
}
